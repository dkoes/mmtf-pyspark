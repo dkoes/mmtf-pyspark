{
 "cells": [
  {
   "cell_type": "markdown",
   "metadata": {},
   "source": [
    "# DSSP Demo\n",
    "\n",
    "This demo shows how to create and query a dssp dataset.\n",
    "\n",
    "DSSP is a database of secondary structure assigmnets for all protein entries in the Protein Data Bank (PDB).\n",
    "\n",
    "[DSSP Website](http://swift.cmbi.ru.nl/gv/dssp/)\n",
    "\n",
    "## Imports"
   ]
  },
  {
   "cell_type": "code",
   "execution_count": 1,
   "metadata": {},
   "outputs": [],
   "source": [
    "from pyspark import SQLContext\n",
    "from pyspark.sql import SparkSession\n",
    "from mmtfPyspark.datasets import secondaryStructureExtractor\n",
    "from mmtfPyspark.io import mmtfReader\n",
    "from mmtfPyspark.mappers import StructureToPolymerChains\n",
    "import time"
   ]
  },
  {
   "cell_type": "markdown",
   "metadata": {},
   "source": [
    "#### Configure Spark "
   ]
  },
  {
   "cell_type": "code",
   "execution_count": 2,
   "metadata": {},
   "outputs": [
    {
     "name": "stdout",
     "output_type": "stream",
     "text": [
      "2022-01-23 14:19:30 WARN  NativeCodeLoader:62 - Unable to load native-hadoop library for your platform... using builtin-java classes where applicable\n"
     ]
    },
    {
     "name": "stderr",
     "output_type": "stream",
     "text": [
      "Setting default log level to \"WARN\".\n",
      "To adjust logging level use sc.setLogLevel(newLevel). For SparkR, use setLogLevel(newLevel).\n"
     ]
    }
   ],
   "source": [
    "spark = SparkSession.builder.appName(\"DSSPDemo\").getOrCreate()"
   ]
  },
  {
   "cell_type": "markdown",
   "metadata": {},
   "source": [
    "## Download single protein (1STP)"
   ]
  },
  {
   "cell_type": "code",
   "execution_count": 3,
   "metadata": {},
   "outputs": [],
   "source": [
    "pdbIds = [\"1STP\"]\n",
    "\n",
    "pdb = mmtfReader.download_mmtf_files(pdbIds).cache()"
   ]
  },
  {
   "cell_type": "markdown",
   "metadata": {},
   "source": [
    "## Flatmap to polymer chains"
   ]
  },
  {
   "cell_type": "code",
   "execution_count": 4,
   "metadata": {},
   "outputs": [],
   "source": [
    "pdb = pdb.flatMap(StructureToPolymerChains())"
   ]
  },
  {
   "cell_type": "markdown",
   "metadata": {},
   "source": [
    "## Extract Secondary Structures"
   ]
  },
  {
   "cell_type": "code",
   "execution_count": 5,
   "metadata": {},
   "outputs": [
    {
     "name": "stderr",
     "output_type": "stream",
     "text": [
      "                                                                                \r"
     ]
    },
    {
     "name": "stdout",
     "output_type": "stream",
     "text": [
      "root\n",
      " |-- structureChainId: string (nullable = false)\n",
      " |-- sequence: string (nullable = false)\n",
      " |-- alpha: float (nullable = false)\n",
      " |-- beta: float (nullable = false)\n",
      " |-- coil: float (nullable = false)\n",
      " |-- dsspQ8Code: string (nullable = false)\n",
      " |-- dsspQ3Code: string (nullable = false)\n",
      "\n"
     ]
    },
    {
     "name": "stderr",
     "output_type": "stream",
     "text": [
      "[Stage 4:============================================>              (3 + 1) / 4]"
     ]
    },
    {
     "name": "stdout",
     "output_type": "stream",
     "text": [
      "+----------------+---------------------------------------------------------------------------------------------------------------------------------------------------------------+----------+--------+----------+---------------------------------------------------------------------------------------------------------------------------------------------------------------+---------------------------------------------------------------------------------------------------------------------------------------------------------------+\n",
      "|structureChainId|sequence                                                                                                                                                       |alpha     |beta    |coil      |dsspQ8Code                                                                                                                                                     |dsspQ3Code                                                                                                                                                     |\n",
      "+----------------+---------------------------------------------------------------------------------------------------------------------------------------------------------------+----------+--------+----------+---------------------------------------------------------------------------------------------------------------------------------------------------------------+---------------------------------------------------------------------------------------------------------------------------------------------------------------+\n",
      "|1STP.A          |DPSKDSKAQVSAAEAGITGTWYNQLGSTFIVTAGADGALTGTYESAVGNAESRYVLTGRYDSAPATDGSGTALGWTVAWKNNYRNAHSATTWSGQYVGGAEARINTQWLLTSGTTEANAWKSTLVGHDTFTKVKPSAASIDAAKKAGVNNGNPLDAVQQ|0.08264463|0.553719|0.36363637|XXXXXXXXXXXXCHHHHCEEEEETTCCEEEEEECTTSEEEEEEECSSSSCCSCEEEEEEECSSCCSSSCCEEEEEEEEEECSSCEEEEEEEEEEEEECSTTCEEEEEEEEEECCCGGGGGGCEEEEEEEEECCXXXXXXXXXXXXXXXXXXXXXXXXXX|XXXXXXXXXXXXCHHHHCEEEEECCCCEEEEEECCCCEEEEEEECCCCCCCCCEEEEEEECCCCCCCCCCEEEEEEEEEECCCCEEEEEEEEEEEEECCCCCEEEEEEEEEECCCHHHHHHCEEEEEEEEECCXXXXXXXXXXXXXXXXXXXXXXXXXX|\n",
      "+----------------+---------------------------------------------------------------------------------------------------------------------------------------------------------------+----------+--------+----------+---------------------------------------------------------------------------------------------------------------------------------------------------------------+---------------------------------------------------------------------------------------------------------------------------------------------------------------+\n",
      "\n"
     ]
    },
    {
     "name": "stderr",
     "output_type": "stream",
     "text": [
      "                                                                                \r"
     ]
    }
   ],
   "source": [
    "ds = secondaryStructureExtractor.get_dataset(pdb)\n",
    "\n",
    "ds.printSchema()\n",
    "ds.show(2, False)"
   ]
  },
  {
   "cell_type": "markdown",
   "metadata": {},
   "source": [
    "## Terminate Spark"
   ]
  },
  {
   "cell_type": "code",
   "execution_count": 6,
   "metadata": {},
   "outputs": [],
   "source": [
    "spark.stop()"
   ]
  }
 ],
 "metadata": {
  "kernelspec": {
   "display_name": "Python 3 (ipykernel)",
   "language": "python",
   "name": "python3"
  },
  "language_info": {
   "codemirror_mode": {
    "name": "ipython",
    "version": 3
   },
   "file_extension": ".py",
   "mimetype": "text/x-python",
   "name": "python",
   "nbconvert_exporter": "python",
   "pygments_lexer": "ipython3",
   "version": "3.7.12"
  }
 },
 "nbformat": 4,
 "nbformat_minor": 4
}
