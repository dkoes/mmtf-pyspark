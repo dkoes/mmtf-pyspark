{
 "cells": [
  {
   "cell_type": "markdown",
   "metadata": {},
   "source": [
    "# Drug Bank Demo\n",
    "\n",
    "![DrugBank](./figures/drugbank.jpg)\n",
    "\n",
    "This demo demonstrates how to access the open DrugBank dataset. This dataset contains identifiers and names for integration with other data resources.\n",
    "\n",
    "## Reference\n",
    " \n",
    "Wishart DS, et al., DrugBank 5.0: a major update to the DrugBank database for 2018. Nucleic Acids Res. 2017 Nov 8, <a href=\"https://dx.doi.org/10.1093/nar/gkx1037\">doi:10.1093/nar/gkx1037</a>.\n",
    "\n",
    "## Imports"
   ]
  },
  {
   "cell_type": "code",
   "execution_count": 1,
   "metadata": {},
   "outputs": [],
   "source": [
    "from pyspark.sql import SparkSession\n",
    "from mmtfPyspark.datasets import drugBankDataset"
   ]
  },
  {
   "cell_type": "markdown",
   "metadata": {},
   "source": [
    "#### Configure Spark "
   ]
  },
  {
   "cell_type": "code",
   "execution_count": 2,
   "metadata": {},
   "outputs": [
    {
     "name": "stdout",
     "output_type": "stream",
     "text": [
      "2022-01-23 14:17:21 WARN  NativeCodeLoader:62 - Unable to load native-hadoop library for your platform... using builtin-java classes where applicable\n"
     ]
    },
    {
     "name": "stderr",
     "output_type": "stream",
     "text": [
      "Setting default log level to \"WARN\".\n",
      "To adjust logging level use sc.setLogLevel(newLevel). For SparkR, use setLogLevel(newLevel).\n"
     ]
    }
   ],
   "source": [
    "spark = SparkSession.builder.appName(\"DrugBankDemo\").getOrCreate()"
   ]
  },
  {
   "cell_type": "markdown",
   "metadata": {},
   "source": [
    "## Download open DrugBank dataset"
   ]
  },
  {
   "cell_type": "code",
   "execution_count": 3,
   "metadata": {},
   "outputs": [
    {
     "data": {
      "text/plain": [
       "['DrugBankID',\n",
       " 'AccessionNumbers',\n",
       " 'Commonname',\n",
       " 'CAS',\n",
       " 'UNII',\n",
       " 'Synonyms',\n",
       " 'StandardInChIKey']"
      ]
     },
     "execution_count": 3,
     "metadata": {},
     "output_type": "execute_result"
    }
   ],
   "source": [
    "openDrugLinks = drugBankDataset.get_open_drug_links()\n",
    "\n",
    "openDrugLinks.columns"
   ]
  },
  {
   "cell_type": "markdown",
   "metadata": {},
   "source": [
    "## Find all drugs with an InChIKey"
   ]
  },
  {
   "cell_type": "code",
   "execution_count": 4,
   "metadata": {},
   "outputs": [],
   "source": [
    "openDrugLinks = openDrugLinks.filter(\"StandardInChIKey IS NOT NULL\")"
   ]
  },
  {
   "cell_type": "markdown",
   "metadata": {},
   "source": [
    "## Show some sample data"
   ]
  },
  {
   "cell_type": "code",
   "execution_count": 5,
   "metadata": {},
   "outputs": [
    {
     "name": "stdout",
     "output_type": "stream",
     "text": [
      "+----------+--------------------+-----------+--------------------+\n",
      "|DrugBankID|          Commonname|        CAS|    StandardInChIKey|\n",
      "+----------+--------------------+-----------+--------------------+\n",
      "|   DB00006|         Bivalirudin|128270-60-0|OIRCOABEOLEUMC-GE...|\n",
      "|   DB00007|          Leuprolide| 53714-56-0|GFIJNRVAKGFPGQ-LI...|\n",
      "|   DB00014|           Goserelin| 65807-02-5|BLCLNMBMMGCOAS-UR...|\n",
      "|   DB00027|        Gramicidin D|  1405-97-6|NDAYQJDHGXTBJL-MW...|\n",
      "|   DB00035|        Desmopressin| 16679-58-6|NFLWUMRGJYTJIN-PN...|\n",
      "|   DB00050|          Cetrorelix|120287-85-6|SBNPWPIBESPSIF-MH...|\n",
      "|   DB00067|         Vasopressin| 11000-17-2|JLTCWSBVQSZVLT-UH...|\n",
      "|   DB00080|          Daptomycin|103060-53-3|DOAKLVKFURWEDJ-QC...|\n",
      "|   DB00091|        Cyclosporine| 59865-13-3|PMATZTZNYRCHOR-CG...|\n",
      "|   DB00093|         Felypressin|    56-59-7|SFKQVVDKFKYTNA-DZ...|\n",
      "|   DB00104|          Octreotide| 83150-76-9|DEQANNDTNATYII-OU...|\n",
      "|   DB00106|            Abarelix|183552-38-7|AIWRTTMUVOZGPW-HS...|\n",
      "|   DB00114| Pyridoxal phosphate|    54-47-7|NGVDGCNFYWLIFO-UH...|\n",
      "|   DB00115|      Cyanocobalamin|    68-19-9|RMRCNWBMXRMIRW-WZ...|\n",
      "|   DB00116|Tetrahydrofolic acid|   135-16-0|MSTNYGQPCMXVAQ-KI...|\n",
      "|   DB00117|           Histidine|    71-00-1|HNDVDQJCIGZPNO-YF...|\n",
      "|   DB00118|        Ademetionine| 29908-03-0|MEFKEPWMEQBLKI-AI...|\n",
      "|   DB00119|        Pyruvic acid|   127-17-3|LCTONWCANYUPML-UH...|\n",
      "|   DB00120|       Phenylalanine|    63-91-2|COLNVLDHVKWLRT-QM...|\n",
      "|   DB00121|              Biotin|    58-85-5|YBJHBAHKTGYVGT-ZK...|\n",
      "+----------+--------------------+-----------+--------------------+\n",
      "only showing top 20 rows\n",
      "\n"
     ]
    }
   ],
   "source": [
    "openDrugLinks.select(\"DrugBankID\",\"Commonname\",\"CAS\",\"StandardInChIKey\").show()"
   ]
  },
  {
   "cell_type": "markdown",
   "metadata": {},
   "source": [
    "## Download DrugBank dataset for approved drugs\n",
    "\n",
    "The DrugBank password protected datasets contain more information.\n",
    "You need to create a DrugBank account and supply username/passwork to access these datasets.\n",
    "\n",
    "[Create DrugBank account](https://www.drugbank.ca/public_users/sign_up)"
   ]
  },
  {
   "cell_type": "code",
   "execution_count": 6,
   "metadata": {},
   "outputs": [],
   "source": [
    "# username = \"<your DrugBank account username>\"\n",
    "# password = \"<your DrugBank account password>\"\n",
    "# drugLinks = drugBankDataset.get_drug_links(\"APPROVED\", username,password)"
   ]
  },
  {
   "cell_type": "markdown",
   "metadata": {},
   "source": [
    "## Show some sample data from DrugLinks"
   ]
  },
  {
   "cell_type": "code",
   "execution_count": 7,
   "metadata": {},
   "outputs": [],
   "source": [
    "# drugLinks.select(\"DrugBankID\",\"Name\",\"CASNumber\",\"Formula\",\"PubChemCompoundID\",\\\n",
    "#                \"PubChemSubstanceID\",\"ChEBIID\",\"ChemSpiderID\").show()"
   ]
  },
  {
   "cell_type": "markdown",
   "metadata": {},
   "source": [
    "## Terminate Spark"
   ]
  },
  {
   "cell_type": "code",
   "execution_count": 8,
   "metadata": {},
   "outputs": [],
   "source": [
    "spark.stop()"
   ]
  },
  {
   "cell_type": "code",
   "execution_count": null,
   "metadata": {},
   "outputs": [],
   "source": []
  }
 ],
 "metadata": {
  "kernelspec": {
   "display_name": "Python 3 (ipykernel)",
   "language": "python",
   "name": "python3"
  },
  "language_info": {
   "codemirror_mode": {
    "name": "ipython",
    "version": 3
   },
   "file_extension": ".py",
   "mimetype": "text/x-python",
   "name": "python",
   "nbconvert_exporter": "python",
   "pygments_lexer": "ipython3",
   "version": "3.7.12"
  }
 },
 "nbformat": 4,
 "nbformat_minor": 4
}
