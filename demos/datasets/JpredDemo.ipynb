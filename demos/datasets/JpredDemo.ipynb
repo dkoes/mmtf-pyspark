{
 "cells": [
  {
   "cell_type": "markdown",
   "metadata": {},
   "source": [
    "# Jpred Demo\n",
    "\n",
    "This demo shows how to create and query a Jpred dataset.\n",
    "\n",
    "![Jpred](./figures/Jpred.png)\n",
    "\n",
    "## Imports"
   ]
  },
  {
   "cell_type": "code",
   "execution_count": 1,
   "metadata": {},
   "outputs": [],
   "source": [
    "from pyspark import SQLContext\n",
    "from pyspark.sql import SparkSession\n",
    "from mmtfPyspark.datasets import jpredDataset"
   ]
  },
  {
   "cell_type": "markdown",
   "metadata": {},
   "source": [
    "#### Configure Spark "
   ]
  },
  {
   "cell_type": "code",
   "execution_count": 2,
   "metadata": {},
   "outputs": [],
   "source": [
    "spark = SparkSession.builder.appName(\"JpredDemo\").getOrCreate()"
   ]
  },
  {
   "cell_type": "markdown",
   "metadata": {},
   "source": [
    "## Get Jpred Datasets"
   ]
  },
  {
   "cell_type": "code",
   "execution_count": 3,
   "metadata": {},
   "outputs": [],
   "source": [
    "res = jpredDataset.get_dataset()"
   ]
  },
  {
   "cell_type": "markdown",
   "metadata": {},
   "source": [
    "## Display Jpred Dataset"
   ]
  },
  {
   "cell_type": "code",
   "execution_count": 4,
   "metadata": {},
   "outputs": [
    {
     "name": "stdout",
     "output_type": "stream",
     "text": [
      "+-------+---------------------------------------------------------------------------------------------------------------------------------------------------------------------------------------------------------------------------------------------------------------------------------------------------------------------------------------------------------------------------------------------------------------------------------------------------------------------------------------+---------------------------------------------------------------------------------------------------------------------------------------------------------------------------------------------------------------------------------------------------------------------------------------------------------------------------------------------------------------------------------------------------------------------------------------------------------------------------------------+-------+\n",
      "|scopID |sequence                                                                                                                                                                                                                                                                                                                                                                                                                                                                               |secondaryStructure                                                                                                                                                                                                                                                                                                                                                                                                                                                                     |trained|\n",
      "+-------+---------------------------------------------------------------------------------------------------------------------------------------------------------------------------------------------------------------------------------------------------------------------------------------------------------------------------------------------------------------------------------------------------------------------------------------------------------------------------------------+---------------------------------------------------------------------------------------------------------------------------------------------------------------------------------------------------------------------------------------------------------------------------------------------------------------------------------------------------------------------------------------------------------------------------------------------------------------------------------------+-------+\n",
      "|d3f0da_|MDFRIGQGYDVHQLVPGRPLIIGGVTIPYERGLLGHSDADVLLHAITDALFGAAALGDIGRHFSDFKGADSRALLRECASRVAQAGFAIRNVDSTIIAQAPKLAPHIDAMRANIAADLDLPLDRVNVKAKTNEKLGYLGRGEGIEAQAAALVVRE                                                                                                                                                                                                                                                                                                                            |CCEEEEEEEEEEEEEECCCEEECCEEECCCEEECCCCCCCHHHHHHHHHHHHHCCCCCHHHHCCCCCCCCHHHHHHHHHHHHHHCCEEEEEEEEEEECCCCCCCCCHHHHHHHHHHHHCCCCCCEEEEEECCCCCHHHHCCCEEEEEEEEEEEEC                                                                                                                                                                                                                                                                                                                            |true   |\n",
      "|d2i5vo_|NSVSVDLPGSMKVLVSKSSNADGKYDLIATVDALELSGTSDKNNGSGVLEGVKADASKVKLTISDDLGQTTLEVFKSDGSTLVSKKVTSKDKIIIIIKFNEKGEVSEKIITRADGTRLEYTGIKSDGSGKAKEVLKGYVLEGTLTAEKTTLVVKEGTVTLSKNISKSGEVSVELNDTDSSAATKKTAAWNSGTSTLTITVNSKKTKDLVFTSSNTITVQQYDSNGTSLEGSAVEITKLDEIKNALK                                                                                                                                                                                                                                 |CCEEEEECCCEEEEECCCCCCCCCEEEEEEECCEEEEEEECCCCCCEEEEEECCCCCEEEEEECCCCCCEEEEEECCCCCCEEEEEEECCCCCEEEEEECCCCCEEEEEEECCCCCEEEEECCCCCCCEEEEEEECCEEEEEEECCCEEEEEEEECCEEEEEEEECCCCEEEEEEECCCCCCCCEEEEEECCCCEEEEEECCEEEEEEEECCCCCEEEEEECCCCCCECCCCEECCCHHHHHHHCC                                                                                                                                                                                                                                 |true   |\n",
      "|d1tbfa_|EEETRELQSLAAAVVPSAQTLKITDFSFSDFELSDLETALCTIRMFTDLNLVQNFQMKHEVLCRWILSVKKNYRKNVAYHNWRHAFNTAQCMFAALKAGKIQNKLTDLEILALLIAALSHDLDHPGVSNQFLINTNSELALMYNDESVLEHHHFDQCLMILNSPGNQILSGLSIEEYKTTLKIIKQAILATDLALYIKRRGEFFELIRKNQFNLEDPHQKELFLAMLMTACDLSAITKPWPIQQRIAELVATEFFDQGDRERKELNIEPTDLMNREKKNKIPSMQVGFIDAICLQLYEALTHVSEDCFPLLDGCRKNRQKWQALAE                                                                                                                                                 |CHHHHHHHHHHHCCCCCHHHHCCCCCCCCCCCCCHHHHHHHHHHHHHHCCHHHHCCCCHHHHHHHHHHHHHCCCCCCCCCCHHHHHHHHHHHHHHHHCCCCCCCCCHHHHHHHHHHHHHCCCCCCCCCHHHHHHCCCHHHHHCCCCCHHHHHHHHHHHHHHHCCCCCCCCCCCHHHHHHHHHHHHHHHHHCCHHHHHHHHHHHHHHHHCCCCCCCCHHHHHHHHHHHHHHHHCCCCCCCHHHHHHHHHHHHHHHHHHHHHHHHHCCCCCCCCCCCCCCCCHHHHHHHHHHHCHHHHHHHHHHHCCCCHHHHHHHHHHHHHHHHHHC                                                                                                                                                 |false  |\n",
      "|d2ed6a1|TVTKTIETHTDNIETNMDENLRIPVTAEVGSGYFKMTDVSFDSDTLGKIKIRNGKSDAQMKEEDADLVITPVEGRALEVTVGQNLTFEGTFKVWNNTSRKINITGMQMVPKINPSKAFVGSSNTSSFTPVSIDEDEVGTFVCGTTFGAPIAATAGGNLFDMYVHVTYSGT                                                                                                                                                                                                                                                                                                             |CHHHHHHHHHHHHHHCCEEEEEEEEEEECCCCEEEECCEEEEECCCEEEEECCCCCHHHHCCCCCCEEEEECCCCCCCCCCCCCCEEECCEEEEECCCCCEEEEEEEEEECCCCCCCCCCCCEEEEECCEEECCCCEEEECEEEEECCCCCCCCCCCEEEEEEEEECCCC                                                                                                                                                                                                                                                                                                             |true   |\n",
      "|d3r72a_|MSMSADQVEKLAKNMRKSCLQKIAITEELVDGMRRGEFPDDHDLQCYTTCIMKLLRTFKNGNFDFDMIVKQLEITMPPEEVVIGKEIVAVCRNEEYTGDDCQKTYQYVQCHYKQNPEKFFFP                                                                                                                                                                                                                                                                                                                                                             |CCCCHHHHHHHHHHHHHHHHHHHCCCHHHHHHCCCCCCCCCHHHHHHHHHHHHHCCCEECCEECHHHHHHHHHHHCCCCCHHHHHHHHHHHCCCCCCCCHHHHHHHHHHHHHHHCCCCCCCC                                                                                                                                                                                                                                                                                                                                                             |false  |\n",
      "|d3ea6a2|EYLDKSRNIPINIWINGNHKTISTNKVSTNKKFVTAQEIDVKLRKYLQEEYNIYGHNGTKKGEEYGHKSKFYSGFNIGKVTFHLNNNDTFSYDLFYTGDDGLPKSFLKIYEDNKTVESEKFHLDVDISYKE                                                                                                                                                                                                                                                                                                                                                    |CEEEEEEECCEEEEECCEEEEECCCCCEEEECEEEHHHHHHHHHHHHHHHHCCCCCCCCCCCCCCCCCCCCCCCCCEEEEEEEECCCCEEEEECCCCCCCCCHHHHCCCCCCCCEEECCCEEEEEEEECCC                                                                                                                                                                                                                                                                                                                                                    |false  |\n",
      "|d1kqpa_|SMQEKIMRELHVKPSIDPKQEIEDRVNFLKQYVKKTGAKGFVLGISGGQDSTLAGRLAQLAVESIREEGGDAQFIAVRLPHGTQQDEDDAQLALKFIKPDKSWKFDIKSTVSAFSDQYQQETGDQLTDFNKGNVKARTRMIAQYAIGGQEGLLVLGTDHAAEAVTGFFTKYGDGGADLLPLTGLTKRQGRTLLKELGAPERLYLKEPTADLLDEKPQQSDETELGISYDEIDDYLEGKEVSAKVSEALEKRYSMTEHKRQVPASMFDDWWK                                                                                                                                                                                                        |CHHHHHHHHHCCCCCCCHHHHHHHHHHHHHHHHHHHCCCEEEEECCCCHHHHHHHHHHHHHHHHHHHCCCCCEEEEEECCCCCCCCHHHHHHHHHHHCCCEEEECCCHHHHHHHHHHHHHHHCCCCCHHHHHHHHHHHHHHHHHHHHHHHCCEEECCCCHHHHCCCCCCCCCCCCCCECCCCCCCHHHHHHHHHHCCCCCHHHHCCCECCCCCCCCCCEHHHHHCCCHHHHHHHHCCCCCCHHHHHHHHHHHHHCCCCCCCCECCCCCCCC                                                                                                                                                                                                        |true   |\n",
      "|d2ghvc1|TNLCPFGEVFNATKFPSVYAWERKKISNCVADYSVLYNSTFFSTFKCYGVSATKLNDLCFSNVYADSFVVKGDDVRQIAPGQTGVIADYNYKLPDDFMGCVLAWNTRNIDATSTGNYNYKYRYLRHGKLRPFERDISNVPFSPDGKPCTPPALNCYWPLNDYGFYTTTGIGYQPYRVVVLSFE                                                                                                                                                                                                                                                                                                |CCECCHHHHHCCCCCCECCCCEEEEECCCECCCCCCCCCCECCEEEEECCECCCCCCCCCCCEEEEEEEEECCCCCCCCCCCCCHHHHHCCCCCCCCCEEEEEEECHHHHCECCCECCCEEECCCCCCCCCCCCCCCCCCECCCCCCCCCCCCCCECCEEECCEECCCCCCCCEEEEEEEECC                                                                                                                                                                                                                                                                                                |true   |\n",
      "|d1uoya_|DTCGSGYNVDQRRTNSGCKAGNGDRHFCGCDRTGVVECKGGKWTEVQDCGSSSCKGTSNGGATC                                                                                                                                                                                                                                                                                                                                                                                                                       |CCCCCCCCCCECCCCCECCCCCCCCEEECCCCCEEEEEECCEEEEEEECCCCCCEEECCEEEEC                                                                                                                                                                                                                                                                                                                                                                                                                       |true   |\n",
      "|d3f42a_|HMDFSQLGGLLDGMKKEFSQLEEKNKDTIHTSKSGGGMVSVSFNGLGELVDLQIDDSLLEDKEAMQIYLMSALNDGYKAVEENRKNLAFNMLG                                                                                                                                                                                                                                                                                                                                                                                          |CCCHHHHHHHHHHHHHHHHHHHHHHHCCEEEEEECCCCEEEEEECCCCEEEEEECCCCCCCHHHHHHHHHHHHHHHHHHHHHHHHHHHHHHHC                                                                                                                                                                                                                                                                                                                                                                                          |true   |\n",
      "|d1u5pa1|ANKQQNFNTGIKDFDFWLSEVEALLASEDYGKDLASVNNLLKKHQLLEADISAHEDRLKDLNSQADSLMTSSAFDTSQVKDKRETINGRFQRIKSMAAARRAKLNESHRL                                                                                                                                                                                                                                                                                                                                                                         |CCHHHHHHHHHHHHHHHHHHHHHHHCCCCCCCCHHHHHHHHHHHHHHHHHHHHHHHHHHHHHHHHHHHHCCCCCCCHHHHHHHHHHHHHHHHHHHHHHHHHHHHHHHHHH                                                                                                                                                                                                                                                                                                                                                                         |true   |\n",
      "|d1fm0d_|MIKVLFFAQVRELVGTDATEVAADFPTVEALRQHMAAQSDRWALALEDGKLLAAVNQTLVSFDHPLTDGDEVAFFPPVTGG                                                                                                                                                                                                                                                                                                                                                                                                      |CEEEEECHHHHHHHCCCEEEECCCCCEHHHHHHHHHCCCHHHHHHHCCCCCEEEECCEECCCCCECCCCCEEEEECCCCCC                                                                                                                                                                                                                                                                                                                                                                                                      |true   |\n",
      "|d1pfoa_|DITDKNQSIDSGISSLSYNRNEVLASNGDKIESFVPKEGKKAGNKFIVVERQKRSLTTSPVDISIIDSVNDRTYPGALQLADKALVENRPTILMVKRKPININIDLPGLKGENSIKVDDPTYGKVSGAIDELVSKWNEKYSSTHTLPARTQYSESMVYSKSQISSALNVNAKVLENSLGVDFNAVANNEKKVMILAYKQIFYTVSADLPKNPSDLFDDSVTFNDLKQKGVSNEAPPLMVSNVAYGRTIYVKLETTSSSKDVQAAFKALIKNTDIKNSQQYKDIYENSSFTAVVLGGDAQEHNKVVTKDFDEIRKVIKDNATFSTKNPAYPISYTSVFLKDNSVAAVHNKTDYIETTSTEYSKGKINLDHSGAYVAQFEVAWDEVSYDKEGNEVLTHKTWDGNYQDKTAHYSTVIPLEANARNIRIKARECTGLAWEWWRDVISEYDVPLTNNINVSIWGTTLYPGSSITYN|CCCCCCCCHHHHHHCCCCCCCCCCCEECCCCCCCCCEEEEECCCEEEEEEEEEEEEEECCCCEECCCCCCCCCCCCCEEECCHHHHCCCCCECCCCECCEEEEECCCCCCCCCEEEECCCCHHHHHHHHHHHHHHHHHHCCCCCEEECEEEEEEEECCCHHHHHHHHCCCHHHHHHHCCCCHHHHHCCCCEEEEEEEEEEEEEEEECCCCCHHHHECCCCCHHHHHHCCCECCECEEEEEEEEEEEEEEEEEEECCCCCCHHHHHHHHHHCCCCCCCHHHHHHHHCEEEEEEEEECCCCCCCCEEECCHHHHHHHHHHCCEEECCCCCCEEEEEEEECCCCCECCCCEEEEEEEEEEEEEECEEEEEEECCCCCEEEEEEEEEEEECCCCCEEEEEEECCCCCCCECCCEEEEEEECCCEEEEEEEEEECCCCCCCCCCEEEEECCCCCCCEEEEEEEECCCCEEEEEEEC|true   |\n",
      "|d4duia_|HHHHHHGSDLGKKLLEAARAGQDDEVRILMANGADVNATDASGLTPLHLAATYGHLEIVEVLLKHGADVNAIDIMGSTPLHLAALIGHLEIVEVLLKHGADVNAVDTWGDTPLHLAAIMGHLEIVEVLLKHGADVNAQDKFGKTAFDISIDNGNEDLAEILQKL                                                                                                                                                                                                                                                                                                                   |CCCCCCHHHHHHHHHHHHHHCCHHHHHHHHHCCCCCCCCCCCCCCHHHHHHHHCCHHHHHHHHHCCCCCCCCCCCCCCHHHHHHHHCCHHHHHHHHHCCCCCCCCCCCCCCHHHHHHHCCCHHHHHHHHHCCCCCCCCCCCCCCHHHHHHHCCCHHHHHHHCCC                                                                                                                                                                                                                                                                                                                   |true   |\n",
      "|d1h7ca_|PRVRQIKIKTGVVRRLVKERVMYEKEAKQQEEKIEKMRAEDGENYDIKKQAEILQESRMMIPDCQRRLEAAYLDLQRILENEKDLEEAEEYKEARLVLDSVKL                                                                                                                                                                                                                                                                                                                                                                                |CHHHHHHHHHHHHHHHHHHHHHHHHHHHHHHHHHHHHHHHHCCCCHHHHHHHHHHHHHCCHHHHHHHHHHHHHHHHHHHHHCCCCCCCHHHHHHHHHHHHHHC                                                                                                                                                                                                                                                                                                                                                                                |true   |\n",
      "|d3ci3a_|VKIYTKNGDKGQTRIIGKQILYKNDPRVAAYGEVDELNSWVGYTKSLINSHTQVLSNELEEIQQLLFDCGHDLATPADDERHSFKFKQEQPTVWLEEKIDNYTQVVPAVKKFILPGGTQLASALHVARTITRRAERQIVQLMREEQINQDVLIFINRLSDYFFAAARYANYLEQQPDMLYRNSKDVFR                                                                                                                                                                                                                                                                                           |CCCCCCCCCCCEEECCCCCEEECCCHHHHHHHHHHHHHHHHHHHHHCCCCCCCCCHHHHHHHHHHHHHHHHHHCCCCCCCCCCCCCCCHHHHHHHHHHHHHHHHHCCCCCCCECCCCCHHHHHHHHHHHHHHHHHHHHHHHHCCCCCCHHHHHHHHHHHHHHHHHHHHHHHHCCCCCCECCCCCCCCC                                                                                                                                                                                                                                                                                           |true   |\n",
      "|d2xzga1|FMAQILPIRFQEHLQLQNLGINPANIGFSTLTMESDKFICIREKVGEQAQVVIIDMNDPSNPIRRPISADSAIMNPASKVIALKAGKTLQIFNIEMKSKMKAHTMTDDVTFWKWISLNTVALVTDNAVYHWSMEGESQPVKMFDRHSSLAGCQIINYRTDAKQKWLLLTGISAQQNRVVGAMQLYSVDRKVSQPIEGHAASFAQFKMEGNAEESTLFCFAVRGQAGGKLHIIEVGTPPTGNQPFPKKAVDVFFPPEAQNDFPVAMQISEKHDVVFLITKYGYIHLYDLETGTCIYMNRISGETIFVTAPHEATAGIIGVNRKGQVLSVCVEEENIIPYITNVLQNPDLALRMAVRNNL                                                                                                                 |CCCCCCCEEEEEEEECCCCCCCCCCCCCCCEEEEECCEEEEEEEECCEEEEEEEECCCCCCCEEEECCCCEEEECCCCCEEEEEECCEEEEEECCCCEEEEEEECCCCEEEEEECCCCEEEEEECCEEEEEECCCCCCCEEEEECCCCCCCCEEEEEEECCCCCEEEEEEEEEECCEEEEEEEEEECCCCEEEEECCCEEEEEEECCCCCCCCEEEEEEEEEECCEEEEEEEECCCCCCCCCCCCCEEEEECCCCCCCCCCEEEEEEECCCCEEEEEECCCEEEEEECCCCCEEEEEECCCCCEEEEEEECCCCEEEEEECCCEEEEEEECCCCHHHHHHHCCCCHHHHHHHHHHHHC                                                                                                                 |true   |\n",
      "|d1gpja1|EIPKVEKLIEEELSTVEEELEKLKERRLVADVAKSLHEIKDRELERALRRLKTVLQDFAEAYTKRLINVLTSAIMELPDEYRRAASRALRRASELNG                                                                                                                                                                                                                                                                                                                                                                                      |CHHHHHHHHHHHHHHHHHHHHHHHHHHHHHHHHHHHHHHHHHHHHHHHCCCCCCCCCHHHHHHHHHHHHHHHHHHCCCCCCCCHHHHHHHHHHHHCC                                                                                                                                                                                                                                                                                                                                                                                      |false  |\n",
      "|d2rdea1|EPRFELNLAGKVLFDEHRGDCELRDLSRSGCRFITPPLGKTYQVGDLVALEIFSDLRGTKTFPPLTGKICNLQRSLHHARYGLEFNEEGRNNAKNLLAQLKFNGTKLTLN                                                                                                                                                                                                                                                                                                                                                                         |CCEEEEEEEEEEEECCEEEEEEEEEECCCEEEEEECCCCCCCCCCCEEEEEEECCCCCCCECCCEEEEEEEEEECCCCEEEEEEECHHHHHHHHHHHHHCEECCCCEECC                                                                                                                                                                                                                                                                                                                                                                         |true   |\n",
      "|d1itxa2|YGRGWDGCAQAGNGQYQTCTGGSSVGTWEAGSFDFYDLEANYINKNGYTRYWNDTAKVPYLYNASNKRFISY                                                                                                                                                                                                                                                                                                                                                                                                               |EEEEEECCCCCCCCCCCECCEECCCCCCCCCEEEHHHHHHHCCCCCCEEEEEECCCCEEEEEECCCCCEEEC                                                                                                                                                                                                                                                                                                                                                                                                               |true   |\n",
      "+-------+---------------------------------------------------------------------------------------------------------------------------------------------------------------------------------------------------------------------------------------------------------------------------------------------------------------------------------------------------------------------------------------------------------------------------------------------------------------------------------------+---------------------------------------------------------------------------------------------------------------------------------------------------------------------------------------------------------------------------------------------------------------------------------------------------------------------------------------------------------------------------------------------------------------------------------------------------------------------------------------+-------+\n",
      "only showing top 20 rows\n",
      "\n"
     ]
    }
   ],
   "source": [
    "res.show(20, False)"
   ]
  },
  {
   "cell_type": "markdown",
   "metadata": {},
   "source": [
    "## Coalesce"
   ]
  },
  {
   "cell_type": "code",
   "execution_count": 5,
   "metadata": {},
   "outputs": [],
   "source": [
    "res = res.coalesce(1)"
   ]
  },
  {
   "cell_type": "markdown",
   "metadata": {},
   "source": [
    "## Save to a local JSON file\n",
    "\n",
    "### This line of code will overwrite existing file or directory"
   ]
  },
  {
   "cell_type": "code",
   "execution_count": 6,
   "metadata": {},
   "outputs": [],
   "source": [
    "res.write.mode(\"overwrite\").format(\"json\").save(\"Local directory to save your JSON file\")"
   ]
  },
  {
   "cell_type": "markdown",
   "metadata": {},
   "source": [
    "## Terminate Spark"
   ]
  },
  {
   "cell_type": "code",
   "execution_count": 7,
   "metadata": {},
   "outputs": [],
   "source": [
    "spark.stop()"
   ]
  }
 ],
 "metadata": {
  "kernelspec": {
   "display_name": "Python 3 (ipykernel)",
   "language": "python",
   "name": "python3"
  },
  "language_info": {
   "codemirror_mode": {
    "name": "ipython",
    "version": 3
   },
   "file_extension": ".py",
   "mimetype": "text/x-python",
   "name": "python",
   "nbconvert_exporter": "python",
   "pygments_lexer": "ipython3",
   "version": "3.7.12"
  }
 },
 "nbformat": 4,
 "nbformat_minor": 4
}
