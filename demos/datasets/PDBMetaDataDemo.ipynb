{
 "cells": [
  {
   "cell_type": "markdown",
   "metadata": {},
   "source": [
    "# PDB Meta Data Demo\n",
    "\n",
    "This demo shows how to query metadata from the PDB archive.\n",
    "\n",
    "This exmaple queries the \\_citation category. Each category represents a table, and fields represent database columns. [Avalible tables and columns](https://pdbj.org/mine-rdb-docs)\n",
    "\n",
    "Example data from 100D.cif\n",
    " * _citation.id                        primary \n",
    " * _citation.title                     Crystal structure of ...\n",
    " * _citation.journal_abbrev            'Nucleic Acids Res.' \n",
    " * _citation.journal_volume            22 \n",
    " * _citation.page_first                5466 \n",
    " * _citation.page_last                 5476 \n",
    " * _citation.year                      1994 \n",
    " * _citation.journal_id_ASTM           NARHAD \n",
    " * _citation.country                   UK \n",
    " * _citation.journal_id_ISSN           0305-1048 \n",
    " * _citation.journal_id_CSD            0389 \n",
    " * _citation.book_publisher            ? \n",
    " * _citation.pdbx_database_id_PubMed   7816639 \n",
    " * _citation.pdbx_database_id_DOI      10.1093/nar/22.24.5466 \n",
    "\n",
    "Data are probided through [Mine 2 SQL](https://pdbj.org/help/mine2-sql)\n",
    "\n",
    "Queries can be designed with the interactive [PDBj Mine 2 query service](https://pdbj.org/help/mine2-sql)\n",
    "\n",
    "## Imports"
   ]
  },
  {
   "cell_type": "code",
   "execution_count": 1,
   "metadata": {},
   "outputs": [],
   "source": [
    "from pyspark.sql import SparkSession\n",
    "from pyspark.sql.functions import col\n",
    "from mmtfPyspark.datasets import pdbjMineDataset\n",
    "import matplotlib.pyplot as plt"
   ]
  },
  {
   "cell_type": "markdown",
   "metadata": {},
   "source": [
    "#### Configure Spark "
   ]
  },
  {
   "cell_type": "code",
   "execution_count": 2,
   "metadata": {},
   "outputs": [
    {
     "name": "stdout",
     "output_type": "stream",
     "text": [
      "2022-01-23 16:41:52 WARN  NativeCodeLoader:62 - Unable to load native-hadoop library for your platform... using builtin-java classes where applicable\n"
     ]
    },
    {
     "name": "stderr",
     "output_type": "stream",
     "text": [
      "Setting default log level to \"WARN\".\n",
      "To adjust logging level use sc.setLogLevel(newLevel). For SparkR, use setLogLevel(newLevel).\n"
     ]
    }
   ],
   "source": [
    "spark = SparkSession.builder.appName(\"PDBMetaDataDemo\").getOrCreate()"
   ]
  },
  {
   "cell_type": "markdown",
   "metadata": {},
   "source": [
    "## Query PDBj Mine\n",
    "\n",
    "Query the following fields from the \\citation category using PDBj's Mine 2 web service:\n",
    " * journal_abbrev\n",
    " * pdbx_database_id_PubMed\n",
    " * year\n",
    "\n",
    "Note: mixed case column names must be quoted and escaped with \\\n"
   ]
  },
  {
   "cell_type": "code",
   "execution_count": 3,
   "metadata": {},
   "outputs": [],
   "source": [
    "sqlQuery = \"SELECT pdbid, journal_abbrev, \\\"pdbx_database_id_PubMed\\\", year from citation WHERE id = 'primary'\"\n",
    "\n",
    "ds = pdbjMineDataset.get_dataset(sqlQuery)"
   ]
  },
  {
   "cell_type": "markdown",
   "metadata": {},
   "source": [
    "## Show first 10 results from query"
   ]
  },
  {
   "cell_type": "code",
   "execution_count": 4,
   "metadata": {},
   "outputs": [
    {
     "name": "stdout",
     "output_type": "stream",
     "text": [
      "+-----------+------------------+-----------------------+----+\n",
      "|structureId|journal_abbrev    |pdbx_database_id_PubMed|year|\n",
      "+-----------+------------------+-----------------------+----+\n",
      "|101M       |Thesis, Rice      |-1                     |1999|\n",
      "|100D       |Nucleic Acids Res.|7816639                |1994|\n",
      "|101D       |Biochemistry      |7711020                |1995|\n",
      "|107D       |J.Mol.Biol.       |7731041                |1995|\n",
      "|107L       |Science           |8503008                |1993|\n",
      "|108D       |Biochemistry      |7612596                |1995|\n",
      "|107M       |Thesis, Rice      |-1                     |1999|\n",
      "|108L       |Science           |8503008                |1993|\n",
      "|102M       |Thesis, Rice      |-1                     |1999|\n",
      "|102D       |J.Med.Chem.       |7608897                |1995|\n",
      "+-----------+------------------+-----------------------+----+\n",
      "only showing top 10 rows\n",
      "\n"
     ]
    }
   ],
   "source": [
    "ds.show(10, False)"
   ]
  },
  {
   "cell_type": "markdown",
   "metadata": {},
   "source": [
    "## Filter out unpublished entries\n",
    "\n",
    "Published entires contain the word \"published\" in various upper/lower case combinations"
   ]
  },
  {
   "cell_type": "code",
   "execution_count": 5,
   "metadata": {},
   "outputs": [],
   "source": [
    "ds = ds.filter(\"UPPER(journal_abbrev) NOT LIKE '%PUBLISHED%'\")"
   ]
  },
  {
   "cell_type": "markdown",
   "metadata": {},
   "source": [
    "## Show the top 10 journals that publish PDB structures"
   ]
  },
  {
   "cell_type": "code",
   "execution_count": 6,
   "metadata": {},
   "outputs": [
    {
     "name": "stderr",
     "output_type": "stream",
     "text": [
      "[Stage 4:============================================>          (160 + 8) / 200]"
     ]
    },
    {
     "name": "stdout",
     "output_type": "stream",
     "text": [
      "+------------------------+-----+\n",
      "|journal_abbrev          |count|\n",
      "+------------------------+-----+\n",
      "|J.Biol.Chem.            |11697|\n",
      "|Biochemistry            |10756|\n",
      "|J.Mol.Biol.             |10754|\n",
      "|Proc.Natl.Acad.Sci.USA  |7143 |\n",
      "|Structure               |6268 |\n",
      "|Nat Commun              |6202 |\n",
      "|J.Med.Chem.             |5959 |\n",
      "|Nature                  |4418 |\n",
      "|Acta Crystallogr.,Sect.D|4207 |\n",
      "|Nucleic Acids Res.      |3172 |\n",
      "+------------------------+-----+\n",
      "only showing top 10 rows\n",
      "\n"
     ]
    },
    {
     "name": "stderr",
     "output_type": "stream",
     "text": [
      "                                                                                \r"
     ]
    }
   ],
   "source": [
    "ds.groupBy(\"journal_abbrev\").count().sort(col(\"count\").desc()).show(10,False)"
   ]
  },
  {
   "cell_type": "markdown",
   "metadata": {},
   "source": [
    "## Filter out entries without a PubMed Id \n",
    "\n",
    "-1 if PubMed Id is not available"
   ]
  },
  {
   "cell_type": "code",
   "execution_count": 7,
   "metadata": {},
   "outputs": [
    {
     "name": "stdout",
     "output_type": "stream",
     "text": [
      "Entires with PubMed Ids: 153325\n"
     ]
    }
   ],
   "source": [
    "ds = ds.filter(\"pdbx_database_id_PubMed > 0\")\n",
    "\n",
    "print(f\"Entires with PubMed Ids: {ds.count()}\")"
   ]
  },
  {
   "cell_type": "markdown",
   "metadata": {},
   "source": [
    "## Show growth of papers in PubMed"
   ]
  },
  {
   "cell_type": "code",
   "execution_count": 8,
   "metadata": {},
   "outputs": [
    {
     "name": "stdout",
     "output_type": "stream",
     "text": [
      "PubMed Ids per year: \n"
     ]
    },
    {
     "name": "stderr",
     "output_type": "stream",
     "text": [
      "[Stage 7:=============================>                             (1 + 1) / 2]"
     ]
    },
    {
     "name": "stdout",
     "output_type": "stream",
     "text": [
      "+----+-----+\n",
      "|year|count|\n",
      "+----+-----+\n",
      "|2022|160  |\n",
      "|2021|10024|\n",
      "|2020|10909|\n",
      "|2019|9599 |\n",
      "|2018|9092 |\n",
      "|2017|9363 |\n",
      "|2016|9179 |\n",
      "|2015|8437 |\n",
      "|2014|7721 |\n",
      "|2013|7773 |\n",
      "+----+-----+\n",
      "only showing top 10 rows\n",
      "\n"
     ]
    },
    {
     "name": "stderr",
     "output_type": "stream",
     "text": [
      "                                                                                \r"
     ]
    }
   ],
   "source": [
    "print(\"PubMed Ids per year: \")\n",
    "idsPerYear = ds.groupBy(\"year\").count().sort(col(\"year\").desc())\n",
    "idsPerYear.show(10, False)"
   ]
  },
  {
   "cell_type": "markdown",
   "metadata": {},
   "source": [
    "## Make scatter plot for growth of papers in PubMed"
   ]
  },
  {
   "cell_type": "code",
   "execution_count": 9,
   "metadata": {
    "scrolled": true
   },
   "outputs": [
    {
     "name": "stderr",
     "output_type": "stream",
     "text": [
      "                                                                                \r"
     ]
    },
    {
     "data": {
      "text/plain": [
       "Text(0.5,1,'Growth of papers in PubMed each year')"
      ]
     },
     "execution_count": 9,
     "metadata": {},
     "output_type": "execute_result"
    },
    {
     "data": {
      "image/png": "[encoded data removed]",
      "text/plain": [
       "<Figure size 432x288 with 1 Axes>"
      ]
     },
     "metadata": {
      "needs_background": "light"
     },
     "output_type": "display_data"
    }
   ],
   "source": [
    "# Get year and publications as list\n",
    "year = idsPerYear.select(\"year\").collect()\n",
    "publications = idsPerYear.select(\"count\").collect()\n",
    "\n",
    "# Make scatter plot with matplotlib\n",
    "plt.scatter(year, publications)\n",
    "plt.xlabel(\"year\")\n",
    "plt.ylabel(\"papers\")\n",
    "plt.title(\"Growth of papers in PubMed each year\")"
   ]
  },
  {
   "cell_type": "markdown",
   "metadata": {},
   "source": [
    "## Terminate Spark"
   ]
  },
  {
   "cell_type": "code",
   "execution_count": 10,
   "metadata": {},
   "outputs": [],
   "source": [
    "spark.stop()"
   ]
  },
  {
   "cell_type": "code",
   "execution_count": null,
   "metadata": {},
   "outputs": [],
   "source": []
  }
 ],
 "metadata": {
  "kernelspec": {
   "display_name": "Python 3 (ipykernel)",
   "language": "python",
   "name": "python3"
  },
  "language_info": {
   "codemirror_mode": {
    "name": "ipython",
    "version": 3
   },
   "file_extension": ".py",
   "mimetype": "text/x-python",
   "name": "python",
   "nbconvert_exporter": "python",
   "pygments_lexer": "ipython3",
   "version": "3.7.12"
  }
 },
 "nbformat": 4,
 "nbformat_minor": 4
}
