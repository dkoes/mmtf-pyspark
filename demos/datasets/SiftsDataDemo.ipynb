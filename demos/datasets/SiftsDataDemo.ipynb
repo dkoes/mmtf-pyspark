{
 "cells": [
  {
   "cell_type": "markdown",
   "metadata": {},
   "source": [
    "# SIFTS Data Demo\n",
    "\n",
    "This demo shows how to query PDB annotations from the SIFTS project.\n",
    "\n",
    "The \"Structure Integration with Function, Taxonomy and Sequence\" is the authoritative source of up-to-date residue-level annotation of structures in the PDB with data available in Uniprot, IntEnz, CATH, SCOP, GO, InterPro, Pfam and PubMed. [link to SIFTS](https://www.ebi.ac.uk/pdbe/docs/sifts/overview.html)\n",
    "\n",
    "Data are probided through [Mine 2 SQL](https://pdbj.org/help/mine2-sql)\n",
    "\n",
    "Queries can be designed with the interactive [PDBj Mine 2 query service](https://pdbj.org/help/mine2-sql)\n",
    "\n",
    "## Imports"
   ]
  },
  {
   "cell_type": "code",
   "execution_count": 1,
   "metadata": {},
   "outputs": [],
   "source": [
    "from pyspark.sql import SparkSession\n",
    "from pyspark.sql.functions import col\n",
    "from mmtfPyspark.datasets import pdbjMineDataset"
   ]
  },
  {
   "cell_type": "markdown",
   "metadata": {},
   "source": [
    "#### Configure Spark "
   ]
  },
  {
   "cell_type": "code",
   "execution_count": 2,
   "metadata": {},
   "outputs": [
    {
     "name": "stdout",
     "output_type": "stream",
     "text": [
      "2022-01-23 16:43:00 WARN  NativeCodeLoader:62 - Unable to load native-hadoop library for your platform... using builtin-java classes where applicable\n"
     ]
    },
    {
     "name": "stderr",
     "output_type": "stream",
     "text": [
      "Setting default log level to \"WARN\".\n",
      "To adjust logging level use sc.setLogLevel(newLevel). For SparkR, use setLogLevel(newLevel).\n"
     ]
    }
   ],
   "source": [
    "spark = SparkSession.builder.appName(\"SiftsDataDemo\").getOrCreate()"
   ]
  },
  {
   "cell_type": "markdown",
   "metadata": {},
   "source": [
    "## Get PDB entry to PubMed Id mappings"
   ]
  },
  {
   "cell_type": "code",
   "execution_count": 3,
   "metadata": {},
   "outputs": [
    {
     "name": "stdout",
     "output_type": "stream",
     "text": [
      "First 10 results for query: SELECT * FROM sifts.pdb_pubmed LIMIT 10\n",
      "+-----------+-------+---------+\n",
      "|structureId|ordinal|pubmed_id|\n",
      "+-----------+-------+---------+\n",
      "|       100D|      0|  7816639|\n",
      "|       101D|      0|  7711020|\n",
      "|       102D|      0|  7608897|\n",
      "|       102L|      0|  8429913|\n",
      "|       103D|      0|  7966337|\n",
      "|       103L|      0|  8429913|\n",
      "|       104D|      0|  7857947|\n",
      "|       104L|      0|  8429913|\n",
      "|       105D|      0|  7743125|\n",
      "|       106D|      0|  7743125|\n",
      "+-----------+-------+---------+\n",
      "\n"
     ]
    }
   ],
   "source": [
    "pubmedQuery = \"SELECT * FROM sifts.pdb_pubmed LIMIT 10\"\n",
    "pubmed = pdbjMineDataset.get_dataset(pubmedQuery)\n",
    "print(f\"First 10 results for query: {pubmedQuery}\")\n",
    "pubmed.show(10)"
   ]
  },
  {
   "cell_type": "markdown",
   "metadata": {},
   "source": [
    "## Get PDB chain to InterPro mappings"
   ]
  },
  {
   "cell_type": "code",
   "execution_count": 4,
   "metadata": {},
   "outputs": [
    {
     "name": "stdout",
     "output_type": "stream",
     "text": [
      "First 10 results for query: SELECT * FROM sifts.pdb_chain_interpro LIMIT 10\n",
      "+-----+-----+-----------+----------------+\n",
      "|pdbid|chain|interpro_id|structureChainId|\n",
      "+-----+-----+-----------+----------------+\n",
      "| 101M|    A|  IPR000971|          101M.A|\n",
      "| 101M|    A|  IPR002335|          101M.A|\n",
      "| 101M|    A|  IPR009050|          101M.A|\n",
      "| 101M|    A|  IPR012292|          101M.A|\n",
      "| 102L|    A|  IPR001165|          102L.A|\n",
      "| 102L|    A|  IPR002196|          102L.A|\n",
      "| 102L|    A|  IPR023346|          102L.A|\n",
      "| 102M|    A|  IPR000971|          102M.A|\n",
      "| 102M|    A|  IPR002335|          102M.A|\n",
      "| 102M|    A|  IPR009050|          102M.A|\n",
      "+-----+-----+-----------+----------------+\n",
      "\n"
     ]
    }
   ],
   "source": [
    "interproQuery = \"SELECT * FROM sifts.pdb_chain_interpro LIMIT 10\"\n",
    "interpro = pdbjMineDataset.get_dataset(interproQuery)\n",
    "print(f\"First 10 results for query: {interproQuery}\")\n",
    "interpro.show(10)"
   ]
  },
  {
   "cell_type": "markdown",
   "metadata": {},
   "source": [
    "## Get PDB chain to UniProt mappings"
   ]
  },
  {
   "cell_type": "code",
   "execution_count": 5,
   "metadata": {},
   "outputs": [
    {
     "name": "stdout",
     "output_type": "stream",
     "text": [
      "First 10 results for query: SELECT * FROM sifts.pdb_chain_uniprot LIMIT 10\n",
      "+-----+-----+----------+-------+-------+-------+-------+------+------+----------------+\n",
      "|pdbid|chain|sp_primary|res_beg|res_end|pdb_beg|pdb_end|sp_beg|sp_end|structureChainId|\n",
      "+-----+-----+----------+-------+-------+-------+-------+------+------+----------------+\n",
      "| 101M|    A|    P02185|      1|    154|      0|    153|     1|   154|          101M.A|\n",
      "| 102L|    A|    P00720|      1|     40|      1|     40|     1|    40|          102L.A|\n",
      "| 102L|    A|    P00720|     42|    165|     41|   null|    41|   164|          102L.A|\n",
      "| 102M|    A|    P02185|      1|    154|      0|    153|     1|   154|          102M.A|\n",
      "| 103L|    A|    P00720|      1|     40|      1|   null|     1|    40|          103L.A|\n",
      "| 103L|    A|    P00720|     44|    167|     41|   null|    41|   164|          103L.A|\n",
      "| 103M|    A|    P02185|      1|    154|      0|    153|     1|   154|          103M.A|\n",
      "| 104L|    A|    P00720|      1|     44|      1|     44|     1|    44|          104L.A|\n",
      "| 104L|    A|    P00720|     47|    166|     45|   null|    45|   164|          104L.A|\n",
      "| 104L|    B|    P00720|      1|     44|      1|     44|     1|    44|          104L.B|\n",
      "+-----+-----+----------+-------+-------+-------+-------+------+------+----------------+\n",
      "\n"
     ]
    }
   ],
   "source": [
    "uniprotQuery = \"SELECT * FROM sifts.pdb_chain_uniprot LIMIT 10\"\n",
    "uniprot = pdbjMineDataset.get_dataset(uniprotQuery)\n",
    "print(f\"First 10 results for query: {uniprotQuery}\")\n",
    "uniprot.show(10)"
   ]
  },
  {
   "cell_type": "markdown",
   "metadata": {},
   "source": [
    "## Get PDB chain to taxonomy mappings"
   ]
  },
  {
   "cell_type": "code",
   "execution_count": 6,
   "metadata": {},
   "outputs": [
    {
     "name": "stdout",
     "output_type": "stream",
     "text": [
      "First 10 results for query: SELECT * FROM sifts.pdb_chain_taxonomy LIMIT 10\n",
      "+-----+-----+------+--------------------+----------------+\n",
      "|pdbid|chain|tax_id|     scientific_name|structureChainId|\n",
      "+-----+-----+------+--------------------+----------------+\n",
      "| 101M|    A|  9755|               PHYMC|          101M.A|\n",
      "| 101M|    A|  9755|    Physeter catodon|          101M.A|\n",
      "| 101M|    A|  9755|Physeter catodon ...|          101M.A|\n",
      "| 101M|    A|  9755|Physeter macrocep...|          101M.A|\n",
      "| 101M|    A|  9755|Physeter macrocep...|          101M.A|\n",
      "| 101M|    A|  9755|         Sperm whale|          101M.A|\n",
      "| 101M|    A|  9755|         sperm whale|          101M.A|\n",
      "| 102L|    A| 10665|                BPT4|          102L.A|\n",
      "| 102L|    A| 10665|    Bacteriophage T4|          102L.A|\n",
      "| 102L|    A| 10665|Enterobacteria ph...|          102L.A|\n",
      "+-----+-----+------+--------------------+----------------+\n",
      "\n"
     ]
    }
   ],
   "source": [
    "taxonomyQuery = \"SELECT * FROM sifts.pdb_chain_taxonomy LIMIT 10\"\n",
    "taxonomy = pdbjMineDataset.get_dataset(taxonomyQuery)\n",
    "print(f\"First 10 results for query: {taxonomyQuery}\")\n",
    "taxonomy.show(10)"
   ]
  },
  {
   "cell_type": "markdown",
   "metadata": {},
   "source": [
    "## Get PDB chain to PFAM mappings"
   ]
  },
  {
   "cell_type": "code",
   "execution_count": 7,
   "metadata": {},
   "outputs": [
    {
     "name": "stdout",
     "output_type": "stream",
     "text": [
      "First 10 results for query: SELECT * FROM sifts.pdb_chain_pfam LIMIT 10\n",
      "+-----+-----+----------+-------+--------+----------------+\n",
      "|pdbid|chain|sp_primary|pfam_id|coverage|structureChainId|\n",
      "+-----+-----+----------+-------+--------+----------------+\n",
      "| 101M|    A|    P02185|PF00042|       1|          101M.A|\n",
      "| 102L|    A|    P00720|PF00959|       1|          102L.A|\n",
      "| 102M|    A|    P02185|PF00042|       1|          102M.A|\n",
      "| 103L|    A|    P00720|PF00959|       1|          103L.A|\n",
      "| 103M|    A|    P02185|PF00042|       1|          103M.A|\n",
      "| 104L|    A|    P00720|PF00959|       1|          104L.A|\n",
      "| 104L|    B|    P00720|PF00959|       1|          104L.B|\n",
      "| 104M|    A|    P02185|PF00042|       1|          104M.A|\n",
      "| 105M|    A|    P02185|PF00042|       1|          105M.A|\n",
      "| 106M|    A|    P02185|PF00042|       1|          106M.A|\n",
      "+-----+-----+----------+-------+--------+----------------+\n",
      "\n"
     ]
    }
   ],
   "source": [
    "pfamQuery = \"SELECT * FROM sifts.pdb_chain_pfam LIMIT 10\"\n",
    "pfam = pdbjMineDataset.get_dataset(pfamQuery)\n",
    "print(f\"First 10 results for query: {pfamQuery}\")\n",
    "pfam.show(10)"
   ]
  },
  {
   "cell_type": "markdown",
   "metadata": {},
   "source": [
    "## Get PDB chain to CATH mappings"
   ]
  },
  {
   "cell_type": "code",
   "execution_count": 8,
   "metadata": {},
   "outputs": [
    {
     "name": "stdout",
     "output_type": "stream",
     "text": [
      "First 10 results for query: SELECT * FROM sifts.pdb_pubmed LIMIT 10\n",
      "+-----------+-------+---------+\n",
      "|structureId|ordinal|pubmed_id|\n",
      "+-----------+-------+---------+\n",
      "|       100D|      0|  7816639|\n",
      "|       101D|      0|  7711020|\n",
      "|       102D|      0|  7608897|\n",
      "|       102L|      0|  8429913|\n",
      "|       103D|      0|  7966337|\n",
      "|       103L|      0|  8429913|\n",
      "|       104D|      0|  7857947|\n",
      "|       104L|      0|  8429913|\n",
      "|       105D|      0|  7743125|\n",
      "|       106D|      0|  7743125|\n",
      "+-----------+-------+---------+\n",
      "\n"
     ]
    }
   ],
   "source": [
    "pubmedQuery = \"SELECT * FROM sifts.pdb_pubmed LIMIT 10\"\n",
    "pubmed = pdbjMineDataset.get_dataset(pubmedQuery)\n",
    "print(f\"First 10 results for query: {pubmedQuery}\")\n",
    "pubmed.show(10)"
   ]
  },
  {
   "cell_type": "markdown",
   "metadata": {},
   "source": [
    "## Get PDB chain to SCOP mappings"
   ]
  },
  {
   "cell_type": "code",
   "execution_count": 9,
   "metadata": {},
   "outputs": [
    {
     "name": "stdout",
     "output_type": "stream",
     "text": [
      "First 10 results for query: SELECT * FROM sifts.pdb_chain_scop_uniprot LIMIT 10\n",
      "+-----+-----+----------+-----+-------+----------------+\n",
      "|pdbid|chain|sp_primary|sunid|scop_id|structureChainId|\n",
      "+-----+-----+----------+-----+-------+----------------+\n",
      "| 101M|    A|    P02185|15125|d101ma_|          101M.A|\n",
      "| 102L|    A|    P00720|36724|d102la_|          102L.A|\n",
      "| 102M|    A|    P02185|15073|d102ma_|          102M.A|\n",
      "| 103L|    A|    P00720|36870|d103la_|          103L.A|\n",
      "| 103M|    A|    P02185|15124|d103ma_|          103M.A|\n",
      "| 104L|    A|    P00720|36969|d104la_|          104L.A|\n",
      "| 104L|    B|    P00720|36970|d104lb_|          104L.B|\n",
      "| 104M|    A|    P02185|15041|d104ma_|          104M.A|\n",
      "| 105M|    A|    P02185|15128|d105ma_|          105M.A|\n",
      "| 106M|    A|    P02185|15101|d106ma_|          106M.A|\n",
      "+-----+-----+----------+-----+-------+----------------+\n",
      "\n"
     ]
    }
   ],
   "source": [
    "scopQuery = \"SELECT * FROM sifts.pdb_chain_scop_uniprot LIMIT 10\"\n",
    "scop = pdbjMineDataset.get_dataset(scopQuery)\n",
    "print(f\"First 10 results for query: {scopQuery}\")\n",
    "scop.show(10)"
   ]
  },
  {
   "cell_type": "markdown",
   "metadata": {},
   "source": [
    "## Get PDB chain to Enzyme classification (EC) mappings"
   ]
  },
  {
   "cell_type": "code",
   "execution_count": 10,
   "metadata": {},
   "outputs": [
    {
     "name": "stdout",
     "output_type": "stream",
     "text": [
      "First 10 results for query: SELECT * FROM sifts.pdb_chain_enzyme LIMIT 10\n",
      "+-----+-----+---------+---------+----------------+\n",
      "|pdbid|chain|accession|ec_number|structureChainId|\n",
      "+-----+-----+---------+---------+----------------+\n",
      "| 102L|    A|   P00720| 3.2.1.17|          102L.A|\n",
      "| 103L|    A|   P00720| 3.2.1.17|          103L.A|\n",
      "| 104L|    A|   P00720| 3.2.1.17|          104L.A|\n",
      "| 104L|    B|   P00720| 3.2.1.17|          104L.B|\n",
      "| 107L|    A|   P00720| 3.2.1.17|          107L.A|\n",
      "| 108L|    A|   P00720| 3.2.1.17|          108L.A|\n",
      "| 109L|    A|   P00720| 3.2.1.17|          109L.A|\n",
      "| 10GS|    A|   P09211| 2.5.1.18|          10GS.A|\n",
      "| 10GS|    B|   P09211| 2.5.1.18|          10GS.B|\n",
      "| 10MH|    A|   P05102| 2.1.1.37|          10MH.A|\n",
      "+-----+-----+---------+---------+----------------+\n",
      "\n"
     ]
    }
   ],
   "source": [
    "enzymeQuery = \"SELECT * FROM sifts.pdb_chain_enzyme LIMIT 10\"\n",
    "enzyme = pdbjMineDataset.get_dataset(enzymeQuery)\n",
    "print(f\"First 10 results for query: {enzymeQuery}\")\n",
    "enzyme.show(10)"
   ]
  },
  {
   "cell_type": "markdown",
   "metadata": {},
   "source": [
    "## Get PDB chain to Gene Ontology term mappings"
   ]
  },
  {
   "cell_type": "code",
   "execution_count": 11,
   "metadata": {},
   "outputs": [
    {
     "name": "stdout",
     "output_type": "stream",
     "text": [
      "First 10 results for query: SELECT * FROM sifts.pdb_chain_go LIMIT 10\n",
      "+-----+-----+----------+--------------------+--------+----------+----------------+\n",
      "|pdbid|chain|sp_primary|         with_string|evidence|     go_id|structureChainId|\n",
      "+-----+-----+----------+--------------------+--------+----------+----------------+\n",
      "| 101M|    A|      IPRO|  InterPro:IPR000971|     IEA|GO:0020037|          101M.A|\n",
      "| 101M|    A|      IPRO|  InterPro:IPR002335|     IEA|GO:0015671|          101M.A|\n",
      "| 101M|    A|      IPRO|  InterPro:IPR002335|     IEA|GO:0019825|          101M.A|\n",
      "| 101M|    A|      IPRO|  InterPro:IPR002335|     IEA|GO:0020037|          101M.A|\n",
      "| 101M|    A|    P02185|UniProtKB-KW:KW-0479|     IEA|GO:0046872|          101M.A|\n",
      "| 101M|    A|    P02185|UniProtKB-KW:KW-0561|     IEA|GO:0005344|          101M.A|\n",
      "| 101M|    A|    P02185|UniProtKB-KW:KW-0561|     IEA|GO:0015671|          101M.A|\n",
      "| 102L|    A|      IPRO|  InterPro:IPR001165|     IEA|GO:0003796|          102L.A|\n",
      "| 102L|    A|      IPRO|  InterPro:IPR001165|     IEA|GO:0016998|          102L.A|\n",
      "| 102L|    A|      IPRO|  InterPro:IPR002196|     IEA|GO:0003796|          102L.A|\n",
      "+-----+-----+----------+--------------------+--------+----------+----------------+\n",
      "\n"
     ]
    }
   ],
   "source": [
    "goQuery = \"SELECT * FROM sifts.pdb_chain_go LIMIT 10\"\n",
    "go = pdbjMineDataset.get_dataset(goQuery)\n",
    "print(f\"First 10 results for query: {goQuery}\")\n",
    "go.show(10)"
   ]
  },
  {
   "cell_type": "markdown",
   "metadata": {},
   "source": [
    "## Terminate Spark"
   ]
  },
  {
   "cell_type": "code",
   "execution_count": 12,
   "metadata": {},
   "outputs": [],
   "source": [
    "spark.stop()"
   ]
  }
 ],
 "metadata": {
  "kernelspec": {
   "display_name": "Python 3 (ipykernel)",
   "language": "python",
   "name": "python3"
  },
  "language_info": {
   "codemirror_mode": {
    "name": "ipython",
    "version": 3
   },
   "file_extension": ".py",
   "mimetype": "text/x-python",
   "name": "python",
   "nbconvert_exporter": "python",
   "pygments_lexer": "ipython3",
   "version": "3.7.12"
  }
 },
 "nbformat": 4,
 "nbformat_minor": 4
}
