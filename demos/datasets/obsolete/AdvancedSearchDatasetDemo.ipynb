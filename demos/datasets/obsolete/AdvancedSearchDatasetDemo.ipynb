{
 "cells": [
  {
   "cell_type": "markdown",
   "metadata": {},
   "source": [
    "# AdvancedSearchDataset Demo\n",
    "\n",
    "This demo shows how to run an [RCSB PDB Advanced Search](https://www.rcsb.org/pdb/staticHelp.do?p=help/advancedSearch.html) and return a dataset of matching identifiers. Dependent on the type of query, the returned dataset contains one of the following fields:\n",
    "* structureId for structure-based queries (e.g., 4HHB)\n",
    "* structureChainId for entity-based queries (e.g., 4HHB.A)\n",
    "* ligandId for ligand-based queries (e.g., HEM)\n",
    "\n",
    "[Index of available queries](https://www.rcsb.org/pdb/staticHelp.do?p=help/advancedsearch/index.html)\n",
    "\n",
    "RCSB PDB advanced queries are described in XML. To create the query XML go to the www.rcsb.org website and follow these steps:\n",
    "\n",
    "1. Run an advanced query on the RCSB PDB website\n",
    "2. On the results page, use your browser to find the text: Query Details\n",
    "3. Click on the blue Query Details button and copy the query in XML format"
   ]
  },
  {
   "cell_type": "code",
   "execution_count": 1,
   "metadata": {},
   "outputs": [],
   "source": [
    "from pyspark.sql import SparkSession\n",
    "from mmtfPyspark.datasets import advancedSearchDataset"
   ]
  },
  {
   "cell_type": "markdown",
   "metadata": {},
   "source": [
    "#### Configure Spark "
   ]
  },
  {
   "cell_type": "code",
   "execution_count": 2,
   "metadata": {},
   "outputs": [],
   "source": [
    "spark = SparkSession.builder.appName(\"AdvancedSearchDatasetDemo\").getOrCreate()"
   ]
  },
  {
   "cell_type": "markdown",
   "metadata": {},
   "source": [
    "## Structure-based query\n",
    "Here we search for PDB entries that form a biological assembly with A3B3C3 stoichiometry (trimer of trimers)"
   ]
  },
  {
   "cell_type": "code",
   "execution_count": 3,
   "metadata": {},
   "outputs": [],
   "source": [
    "structure_query = (\"<orgPdbQuery>\"\n",
    "                   \"<queryType>org.pdb.query.simple.StoichiometryQuery</queryType>\"\n",
    "                   \"<stoichiometry>A3B3C3</stoichiometry>\"\n",
    "                   \"</orgPdbQuery>\"\n",
    "                   )"
   ]
  },
  {
   "cell_type": "code",
   "execution_count": 4,
   "metadata": {},
   "outputs": [
    {
     "name": "stdout",
     "output_type": "stream",
     "text": [
      "+-----+\n",
      "|pdbId|\n",
      "+-----+\n",
      "| 1A5K|\n",
      "| 1A5L|\n",
      "| 1A5M|\n",
      "| 1A5N|\n",
      "| 1A5O|\n",
      "| 1DGR|\n",
      "| 1DGW|\n",
      "| 1E0F|\n",
      "| 1EF2|\n",
      "| 1EJR|\n",
      "| 1EJS|\n",
      "| 1EJT|\n",
      "| 1EJU|\n",
      "| 1EJV|\n",
      "| 1EJW|\n",
      "| 1EJX|\n",
      "| 1FWA|\n",
      "| 1FWB|\n",
      "| 1FWC|\n",
      "| 1FWD|\n",
      "+-----+\n",
      "only showing top 20 rows\n",
      "\n"
     ]
    }
   ],
   "source": [
    "ds = advancedSearchDataset.get_dataset(structure_query)\n",
    "ds.show()"
   ]
  },
  {
   "cell_type": "markdown",
   "metadata": {},
   "source": [
    "## Entity-based query\n",
    "Here we search for protein chains by a BLAST search."
   ]
  },
  {
   "cell_type": "code",
   "execution_count": 5,
   "metadata": {},
   "outputs": [],
   "source": [
    "entity_query = (\"<orgPdbQuery>\"\n",
    "                 \"<queryType>org.pdb.query.simple.SequenceQuery</queryType>\"\n",
    "                 \"<sequence>DPSKDSKAQVSAAEAGITGTWYNQLGSTFIVTAGADGALTGTYESAVGNAESRYVLTGRYDSAPATDGSGTALGWTVAWKNNYRNAHSATTWSGQYVGGAEARINTQWLLTSGTTEANAWKSTLVGHDTFTKVKPSAASIDAAKKAGVNNGNPLDAVQQ</sequence>\"\n",
    "                 \"<searchTool>blast</searchTool>\"\n",
    "                 \"<maskLowComplexity>yes</maskLowComplexity>\"\n",
    "                 \"<eValueCutoff>0.001</eValueCutoff>\"\n",
    "                 \"<sequenceIdentityCutoff>40</sequenceIdentityCutoff>\"\n",
    "                 \"</orgPdbQuery>\"\n",
    "                )"
   ]
  },
  {
   "cell_type": "code",
   "execution_count": 6,
   "metadata": {},
   "outputs": [
    {
     "name": "stdout",
     "output_type": "stream",
     "text": [
      "+----------+\n",
      "|pdbChainId|\n",
      "+----------+\n",
      "|    1DF8.B|\n",
      "|    1DF8.A|\n",
      "|    1HQQ.D|\n",
      "|    1HQQ.C|\n",
      "|    1HQQ.B|\n",
      "|    1HQQ.A|\n",
      "|    1HXL.B|\n",
      "|    1HXL.A|\n",
      "|    1HXZ.B|\n",
      "|    1HXZ.A|\n",
      "|    1HY2.D|\n",
      "|    1HY2.C|\n",
      "|    1HY2.B|\n",
      "|    1HY2.A|\n",
      "|    1I9H.B|\n",
      "|    1I9H.A|\n",
      "|    1KFF.D|\n",
      "|    1KFF.C|\n",
      "|    1KFF.B|\n",
      "|    1KFF.A|\n",
      "+----------+\n",
      "only showing top 20 rows\n",
      "\n"
     ]
    }
   ],
   "source": [
    "ds = advancedSearchDataset.get_dataset(entity_query)\n",
    "ds.show()"
   ]
  },
  {
   "cell_type": "markdown",
   "metadata": {},
   "source": [
    "## Ligand-based query\n",
    "Here we search for ligands based on a substructure search."
   ]
  },
  {
   "cell_type": "code",
   "execution_count": 7,
   "metadata": {},
   "outputs": [],
   "source": [
    "ligand_query = (\"<orgPdbQuery>\"\n",
    "                \"<queryType>org.pdb.query.simple.ChemSmilesQuery</queryType>\"\n",
    "                \"<smiles>CC(C)C1=C(Br)C(=O)C(C)=C(Br)C1=O</smiles>\"\n",
    "                \"<target>Ligand</target>\"\n",
    "                \"<searchType>Substructure</searchType>\"\n",
    "                \"<polymericType>Any</polymericType>\"\n",
    "                \"</orgPdbQuery>\"\n",
    "               )"
   ]
  },
  {
   "cell_type": "code",
   "execution_count": 8,
   "metadata": {},
   "outputs": [
    {
     "name": "stdout",
     "output_type": "stream",
     "text": [
      "+--------+\n",
      "|ligandId|\n",
      "+--------+\n",
      "|     BNT|\n",
      "+--------+\n",
      "\n"
     ]
    }
   ],
   "source": [
    "ds = advancedSearchDataset.get_dataset(ligand_query)\n",
    "ds.show()"
   ]
  },
  {
   "cell_type": "code",
   "execution_count": 9,
   "metadata": {},
   "outputs": [],
   "source": [
    "spark.stop()"
   ]
  }
 ],
 "metadata": {
  "kernelspec": {
   "display_name": "Python 3 (ipykernel)",
   "language": "python",
   "name": "python3"
  },
  "language_info": {
   "codemirror_mode": {
    "name": "ipython",
    "version": 3
   },
   "file_extension": ".py",
   "mimetype": "text/x-python",
   "name": "python",
   "nbconvert_exporter": "python",
   "pygments_lexer": "ipython3",
   "version": "3.7.12"
  }
 },
 "nbformat": 4,
 "nbformat_minor": 4
}
